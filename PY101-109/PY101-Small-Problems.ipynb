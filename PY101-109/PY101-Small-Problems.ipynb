{
 "cells": [
  {
   "cell_type": "markdown",
   "id": "21f139d0",
   "metadata": {},
   "source": [
    "# Python Small Exercises"
   ]
  },
  {
   "cell_type": "markdown",
   "id": "65a8ac3b",
   "metadata": {},
   "source": [
    "The Plan is to use PEDAC methodology in some basic way to think about the problem before starting to code to try and minimize the impulse to jump into a hack and slash approach to solving the problem"
   ]
  },
  {
   "cell_type": "markdown",
   "id": "d7e02160",
   "metadata": {},
   "source": [
    "## Easy 1.\n",
    "\n",
    "### 1.1 Isnt it Odd\n",
    "\n",
    "Write a function that takes one integer argument and returns `True` when the number's absolute value is odd, `False` otherwise."
   ]
  },
  {
   "cell_type": "code",
   "execution_count": null,
   "id": "388ac4d9",
   "metadata": {},
   "outputs": [],
   "source": []
  },
  {
   "cell_type": "markdown",
   "id": "7decfe3f",
   "metadata": {},
   "source": [
    "P - Problem: well explained in the request. We want to supply an integer and return boolean depending on if the integer is odd or even.\n",
    "\n",
    "E - Examples: 5 = Odd, 6 = Even\n",
    "   is Zero odd or even? apparently even, maybe we need a special case for this?\n",
    "\n",
    "D - Data Structure: we only take in a single integers as input so this can be directly worked on to produce the required output.\n",
    "\n",
    "A - Algorithm: we can use a remainder function to check if there is any remainder when divided by 2, if the remainder is zero the number is even, we can use the modulo operator whish is `%` in python, need to test if this works for negative integers and zero\n",
    "\n",
    "C - Code with Intent..."
   ]
  },
  {
   "cell_type": "code",
   "execution_count": 7,
   "id": "a033f5a7",
   "metadata": {},
   "outputs": [],
   "source": [
    "def odd_or_even(input_int):\n",
    "    if input_int % 2:\n",
    "        return True\n",
    "    else: return False"
   ]
  },
  {
   "cell_type": "code",
   "execution_count": 14,
   "id": "4311a535",
   "metadata": {},
   "outputs": [
    {
     "data": {
      "text/plain": [
       "(False, True, False, True, False)"
      ]
     },
     "execution_count": 14,
     "metadata": {},
     "output_type": "execute_result"
    }
   ],
   "source": [
    "odd_or_even(-2), odd_or_even(-1),odd_or_even(0), odd_or_even(1), odd_or_even(2)"
   ]
  },
  {
   "cell_type": "markdown",
   "id": "9075b055",
   "metadata": {},
   "source": [
    "### 1.2 Odd Numbers"
   ]
  },
  {
   "cell_type": "markdown",
   "id": "b1d8063b",
   "metadata": {},
   "source": [
    "Print all odd numbers from 1 to 99, inclusive, with each number on a separate line.\n",
    "\n",
    "Bonus Question: Can you solve the problem by iterating over just the odd numbers?"
   ]
  },
  {
   "cell_type": "markdown",
   "id": "e300053d",
   "metadata": {},
   "source": [
    "P - Problem, we want only the odd numbers from 1 - 99 to be printed with only one on each line\n",
    "\n",
    "E - \n",
    "    1\n",
    "    3\n",
    "    5 ...\n",
    "    \n",
    "D - an iterable object returned by the built-in function range() would be helpful allowing us to iterate through       the numbers easily\n",
    "\n",
    "A - iterate through the data structure and print the odd numbers `for number in values:`, use the range() functions arguments to skip even number by using a stride of 2.\n",
    "\n",
    "C - Code with intent..."
   ]
  },
  {
   "cell_type": "code",
   "execution_count": 21,
   "id": "7061819e",
   "metadata": {
    "collapsed": true
   },
   "outputs": [
    {
     "name": "stdout",
     "output_type": "stream",
     "text": [
      "1\n",
      "3\n",
      "5\n",
      "7\n",
      "9\n",
      "11\n",
      "13\n",
      "15\n",
      "17\n",
      "19\n",
      "21\n",
      "23\n",
      "25\n",
      "27\n",
      "29\n",
      "31\n",
      "33\n",
      "35\n",
      "37\n",
      "39\n",
      "41\n",
      "43\n",
      "45\n",
      "47\n",
      "49\n",
      "51\n",
      "53\n",
      "55\n",
      "57\n",
      "59\n",
      "61\n",
      "63\n",
      "65\n",
      "67\n",
      "69\n",
      "71\n",
      "73\n",
      "75\n",
      "77\n",
      "79\n",
      "81\n",
      "83\n",
      "85\n",
      "87\n",
      "89\n",
      "91\n",
      "93\n",
      "95\n",
      "97\n",
      "99\n"
     ]
    }
   ],
   "source": [
    "odd_numbers = range(1,100,2)\n",
    "\n",
    "for odd_number in odd_numbers:\n",
    "    print(odd_number)"
   ]
  },
  {
   "cell_type": "markdown",
   "id": "bac99424",
   "metadata": {},
   "source": [
    "### 1.3 Even Numbers"
   ]
  },
  {
   "cell_type": "markdown",
   "id": "a7725907",
   "metadata": {},
   "source": [
    "Print all even numbers from 1 to 99, inclusive, with each number on a separate line."
   ]
  },
  {
   "cell_type": "markdown",
   "id": "cb449070",
   "metadata": {},
   "source": [
    "cut down on PEDAC , just some text before coding as very similar to before:\n",
    "we will increase start number of the range function to 2 and all should work"
   ]
  },
  {
   "cell_type": "code",
   "execution_count": 24,
   "id": "cc6f2f6a",
   "metadata": {
    "scrolled": true
   },
   "outputs": [
    {
     "name": "stdout",
     "output_type": "stream",
     "text": [
      "2\n",
      "4\n",
      "6\n",
      "8\n",
      "10\n",
      "12\n",
      "14\n",
      "16\n",
      "18\n",
      "20\n",
      "22\n",
      "24\n",
      "26\n",
      "28\n",
      "30\n",
      "32\n",
      "34\n",
      "36\n",
      "38\n",
      "40\n",
      "42\n",
      "44\n",
      "46\n",
      "48\n",
      "50\n",
      "52\n",
      "54\n",
      "56\n",
      "58\n",
      "60\n",
      "62\n",
      "64\n",
      "66\n",
      "68\n",
      "70\n",
      "72\n",
      "74\n",
      "76\n",
      "78\n",
      "80\n",
      "82\n",
      "84\n",
      "86\n",
      "88\n",
      "90\n",
      "92\n",
      "94\n",
      "96\n",
      "98\n"
     ]
    }
   ],
   "source": [
    "even_numbers = range(2,100,2)\n",
    "\n",
    "for even_number in even_numbers:\n",
    "    print(even_number)"
   ]
  },
  {
   "cell_type": "markdown",
   "id": "7c94e4d5",
   "metadata": {},
   "source": [
    "### 1.4 How big is the room?"
   ]
  },
  {
   "cell_type": "markdown",
   "id": "7cedce2a",
   "metadata": {},
   "source": [
    "Build a program that asks the user to enter the length and width of a room, in meters, then prints the room's area in both square meters and square feet.\n",
    "\n",
    "Note: 1 square meter == 10.7639 square feet"
   ]
  },
  {
   "cell_type": "markdown",
   "id": "5d18dd77",
   "metadata": {},
   "source": [
    "**Discuss solving the problem instead of hacking.**\n",
    "\n",
    "- Ask for room length in meters.\n",
    "  - check input is not empty and is a number otherwise provide a response and ask for input again\n",
    "- Ask for room width in meters. \n",
    "  - validate as before.\n",
    "- calculate size of room in meters.\n",
    "- calculate size of room in feet using conversion factor\n",
    "- return answer to command line.\n",
    "\n",
    "1. use input() function to send input message\n",
    "2. conditional statement to check input by trying to cast as a float/or int.\n",
    "3. expressions for calculating room size\n",
    "4. print results"
   ]
  },
  {
   "cell_type": "code",
   "execution_count": 55,
   "id": "6ed0ca12",
   "metadata": {
    "scrolled": true
   },
   "outputs": [
    {
     "name": "stdout",
     "output_type": "stream",
     "text": [
      "Welcome to the room size calculator\n",
      "how wide is the room in meters?3.456456\n",
      "how long is the room in meters?23.566475\n",
      "The Room is 81.4565 meters squared\n",
      "The Room is 876.7894 feet squared\n"
     ]
    }
   ],
   "source": [
    "# function to check if input is a valid number\n",
    "def is_positive_number(input_string):\n",
    "    try: \n",
    "        num = float(input_string)\n",
    "        if num > 0: return True\n",
    "        else: return False\n",
    "    except ValueError:\n",
    "        return False\n",
    "    \n",
    "    \n",
    "print(\"Welcome to the room size calculator\")\n",
    "room_width = input(\"how wide is the room in meters?\")\n",
    "\n",
    "while not is_positive_number(room_width):\n",
    "    print(\"\\n*you have not entered a valid number, please enter a positive number*\")\n",
    "    room_width = input(\"how wide is the room in meters?\")\n",
    "\n",
    "room_length = input(\"how long is the room in meters?\" )\n",
    "\n",
    "while not is_positive_number(room_length):\n",
    "    print(\"\\n*you have not inputted a valid number, please enter a positive number*\")\n",
    "    room_width = input(\"how long is the room in meters?\")\n",
    "\n",
    "room_area_meters = float(room_length) * float(room_width)\n",
    "room_area_feet = room_area_meters * 10.7639\n",
    "\n",
    "print(f\"The Room is {room_area_meters:.4f} meters squared\")\n",
    "print(f\"The Room is {room_area_feet:.4f} feet squared\")"
   ]
  },
  {
   "cell_type": "markdown",
   "id": "300fb71c",
   "metadata": {},
   "source": [
    "### 1.5 Tip Calculator \n",
    "\n",
    "Create a simple tip calculator. The program should prompt for a bill amount and a tip rate. The program must compute the tip, then print both the tip and the total amount of the bill. You can ignore input validation and assume that the user will enter valid numbers."
   ]
  },
  {
   "cell_type": "code",
   "execution_count": 56,
   "id": "f5df2769",
   "metadata": {
    "scrolled": true
   },
   "outputs": [
    {
     "name": "stdout",
     "output_type": "stream",
     "text": [
      "Welcome to the tip calculator\n",
      "Enter the bill total in pounds?: 10\n",
      "what percentage tip do you want to add? \n",
      "Enter  a percentage, ie for 10% enter 10: 10\n",
      "The amount to tip is £1.00\n",
      "The total bill amount including tip is £11.00\n"
     ]
    }
   ],
   "source": [
    "print(\"Welcome to the tip calculator\")\n",
    "bill_total = float(input(\"Enter the bill total in pounds?: \"))\n",
    "tip_percentage = float(input(\"what percentage tip do you want to add? \\nEnter  a percentage, ie for 10% enter 10: \"))\n",
    "\n",
    "tip_amount = tip_percentage / 100 * bill_total\n",
    "bill_inc_tip = bill_total + tip_amount\n",
    "\n",
    "print(f'The amount to tip is £{tip_amount:0.2f}')\n",
    "print(f'The total bill amount including tip is £{bill_inc_tip:0.2f}')\n"
   ]
  },
  {
   "cell_type": "markdown",
   "id": "44ac8430",
   "metadata": {},
   "source": [
    "### 1.6 Sum or product of consecutive numbers\n",
    "\n",
    "Write a program that asks the user to enter an integer greater than 0, then asks whether the user wants to determine the sum or the product of all numbers between 1 and the entered integer, inclusive."
   ]
  },
  {
   "cell_type": "code",
   "execution_count": 79,
   "id": "e70cf671",
   "metadata": {},
   "outputs": [
    {
     "name": "stdout",
     "output_type": "stream",
     "text": [
      "please enter an integer greater than 0:9\n",
      "Enter s to compute the sum or p to compute the product:p\n",
      "the product of integers 1 to 9 comes to: 362880\n"
     ]
    }
   ],
   "source": [
    "# integer input helper function\n",
    "\n",
    "def get_input() -> int:\n",
    "    \n",
    "    while True:\n",
    "        try:\n",
    "            num = int(input(\"please enter an integer greater than 0:\"))\n",
    "            if num > 0:\n",
    "                return num\n",
    "        except ValueError: \n",
    "            print(\"that is not a valid input, please enter an integer greater than 0\")\n",
    "    \n",
    "\n",
    "# helper function to sum all number upto the given int\n",
    "    \n",
    "def calc_sum(num) -> int:\n",
    "    \n",
    "    total = 0\n",
    "    \n",
    "    for i in range(1,int(input_int)+1):\n",
    "        total += i\n",
    "    return total\n",
    "\n",
    "# helper function to return product of all numbers up to provided int\n",
    "\n",
    "def calc_product(num) -> int:\n",
    "    \n",
    "    total = 1\n",
    "\n",
    "    for i in range(1,int(input_int)+1):\n",
    "        total *= i\n",
    "        \n",
    "    return total\n",
    "\n",
    "# ---main code--- #\n",
    "\n",
    "# get input integer\n",
    "\n",
    "input_int = get_input()\n",
    "\n",
    "#check input integer is valid\n",
    "\n",
    "while not isvalid(input_int):\n",
    "    print(\"That is not a valid input, please enter an integer greater than 0\")\n",
    "    input_int = get_input()\n",
    "\n",
    "#get calculation method\n",
    "\n",
    "calc_method = input(\"Enter s to compute the sum or p to compute the product:\")\n",
    "\n",
    "#check calculation method is valid\n",
    "\n",
    "while not calc_method in [\"s\",\"p\"]:\n",
    "    calc_method = input(\"Please enter either an s for sum or a p for count:\")\n",
    "\n",
    "if calc_method == \"s\":\n",
    "    result = calc_sum(input_int)\n",
    "    print (f\"the sum of integers 1 to {input_int} comes to: {result}\")\n",
    "    \n",
    "else: \n",
    "    result = calc_product(input_int)\n",
    "    print (f\"the product of integers 1 to {input_int} comes to: {result}\")\n",
    "    \n"
   ]
  },
  {
   "cell_type": "markdown",
   "id": "762880ee",
   "metadata": {},
   "source": [
    "### Further exploration\n",
    "\n",
    "how do we adapt calc_sum and calc_product functions in the above code if our input is a list of integers seperated by spaces?"
   ]
  },
  {
   "cell_type": "markdown",
   "id": "0ad5cb22",
   "metadata": {},
   "source": [
    "our input needs to be preprocessed into an iterable list of integers and checked that theya re valid"
   ]
  },
  {
   "cell_type": "markdown",
   "id": "3378133f",
   "metadata": {},
   "source": [
    "[1 2 3] as an example, \n",
    "\n",
    "we need to find the index of first space, in this case index 1. then extract the 0th value check it is an int and add it to our new iterable list of ints.\n",
    "\n",
    "we can set the input string to only be equal to the remaining string from index 2 onwards.\n",
    "\n",
    "repeat the process, look for the first space, it could be at index 0, this would be a special case \"double space in the list\" and we would just dispose of it.\n",
    "\n",
    "SET integers = [] # define an empty list for extracted integers\n",
    "\n",
    "#### Semi Psuedocode: probably not enough of a seperation of the logical domain layer from the syntactial layer\n",
    "\n",
    "WHILE length(input_string) > 0:\n",
    "    ind = find( \" \", input_string) # use an inbuilt func to find next space\n",
    "    if ind > 0:\n",
    "      \n",
    "      # needs a guard if string cannot be converted to int\n",
    "      \n",
    "        new_int = input_string[:ind]\n",
    "        integers.append(new_int)\n",
    "        input_string = input_string[ind:]\n",
    "    else: \n",
    "        input_string = input_string[1:] # remove a leading space\n",
    "    \n",
    "If we update the get_input method to check that all string characters are in the set of digits and \" \" , this will validate the input, and the gaurd can be removed form the above psuedocode. In fact all of the above could be included in the get_input function, so that it returns a python list of ints.\n"
   ]
  },
  {
   "cell_type": "code",
   "execution_count": 111,
   "id": "f130bff5",
   "metadata": {},
   "outputs": [],
   "source": [
    "def get_input() -> list:\n",
    "    \n",
    "    while True:\n",
    "        \n",
    "        input_string = input(\"enter a list of integers each seperated by a space:\")\n",
    "        integer_list = input_string.split(\" \")\n",
    "        \n",
    "        while '' in integer_list: \n",
    "            integer_list.remove('')\n",
    "        \n",
    "        try: \n",
    "            for i, value in enumerate(integer_list):\n",
    "                integer_list[i] = int(value)\n",
    "            return integer_list\n",
    "        \n",
    "        except ValueError: print(\"Please enter digits and spaces only\")\n",
    "        "
   ]
  },
  {
   "cell_type": "code",
   "execution_count": 113,
   "id": "4d7ebce6",
   "metadata": {
    "scrolled": false
   },
   "outputs": [
    {
     "name": "stdout",
     "output_type": "stream",
     "text": [
      "enter a list of integers each seperated by a space:44  4896      5  999 4\n"
     ]
    },
    {
     "data": {
      "text/plain": [
       "[44, 4896, 5, 999, 4]"
      ]
     },
     "execution_count": 113,
     "metadata": {},
     "output_type": "execute_result"
    }
   ],
   "source": [
    "get_input()"
   ]
  },
  {
   "cell_type": "code",
   "execution_count": 89,
   "id": "00688811",
   "metadata": {},
   "outputs": [
    {
     "name": "stdout",
     "output_type": "stream",
     "text": [
      "\n",
      "3\n"
     ]
    }
   ],
   "source": [
    "#string_of_ints = \"123 2 3\"\n",
    "index = string_of_ints.find(\" \")\n",
    "new_int = string_of_ints[:index]\n",
    "print(new_int)\n",
    "string_of_ints = string_of_ints[index+1:]\n",
    "print(string_of_ints)"
   ]
  },
  {
   "cell_type": "code",
   "execution_count": null,
   "id": "4bd884a5",
   "metadata": {},
   "outputs": [],
   "source": []
  },
  {
   "cell_type": "code",
   "execution_count": null,
   "id": "48232c15",
   "metadata": {},
   "outputs": [],
   "source": []
  }
 ],
 "metadata": {
  "kernelspec": {
   "display_name": "Python 3 (ipykernel)",
   "language": "python",
   "name": "python3"
  },
  "language_info": {
   "codemirror_mode": {
    "name": "ipython",
    "version": 3
   },
   "file_extension": ".py",
   "mimetype": "text/x-python",
   "name": "python",
   "nbconvert_exporter": "python",
   "pygments_lexer": "ipython3",
   "version": "3.10.6"
  }
 },
 "nbformat": 4,
 "nbformat_minor": 5
}

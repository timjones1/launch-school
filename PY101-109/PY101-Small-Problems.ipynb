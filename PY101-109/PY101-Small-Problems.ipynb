{
 "cells": [
  {
   "cell_type": "markdown",
   "id": "21f139d0",
   "metadata": {},
   "source": [
    "# Python Small Exercises"
   ]
  },
  {
   "cell_type": "markdown",
   "id": "65a8ac3b",
   "metadata": {},
   "source": [
    "The Plan is to use PEDAC methodology in some basic way to think about the problem before starting to code to try and minimize the impulse to jump into a hack and slash approach to solving the problem"
   ]
  },
  {
   "cell_type": "markdown",
   "id": "d7e02160",
   "metadata": {},
   "source": [
    "### Easy 1. Isnt it Odd\n",
    "\n",
    "Write a function that takes one integer argument and returns `True` when the number's absolute value is odd, `False` otherwise."
   ]
  },
  {
   "cell_type": "markdown",
   "id": "7decfe3f",
   "metadata": {},
   "source": [
    "P - Problem: well explained in the request. We want to supply an integer and return boolean depending on if the integer is odd or even.\n",
    "\n",
    "E - Examples: 5 = Odd, 6 = Even\n",
    "   is Zero odd or even? apparently even, maybe we need a special case for this?\n",
    "\n",
    "D - Data Structure: we only take in a single integers as input so this can be directly worked on to produce the required output.\n",
    "\n",
    "A - Algorithm: we can use a remainder function to check if there is any remainder when divided by 2, if the remainder is zero the number is even, we can use the modulo operator whish is `%` in python, need to test if this works for negative integers and zero\n",
    "\n",
    "C - Code with Intent..."
   ]
  },
  {
   "cell_type": "code",
   "execution_count": 7,
   "id": "a033f5a7",
   "metadata": {},
   "outputs": [],
   "source": [
    "def odd_or_even(input_int):\n",
    "    if input_int % 2:\n",
    "        return True\n",
    "    else: return False"
   ]
  },
  {
   "cell_type": "code",
   "execution_count": 14,
   "id": "4311a535",
   "metadata": {},
   "outputs": [
    {
     "data": {
      "text/plain": [
       "(False, True, False, True, False)"
      ]
     },
     "execution_count": 14,
     "metadata": {},
     "output_type": "execute_result"
    }
   ],
   "source": [
    "odd_or_even(-2), odd_or_even(-1),odd_or_even(0), odd_or_even(1), odd_or_even(2)"
   ]
  },
  {
   "cell_type": "code",
   "execution_count": null,
   "id": "193fe827",
   "metadata": {},
   "outputs": [],
   "source": []
  }
 ],
 "metadata": {
  "kernelspec": {
   "display_name": "Python 3 (ipykernel)",
   "language": "python",
   "name": "python3"
  },
  "language_info": {
   "codemirror_mode": {
    "name": "ipython",
    "version": 3
   },
   "file_extension": ".py",
   "mimetype": "text/x-python",
   "name": "python",
   "nbconvert_exporter": "python",
   "pygments_lexer": "ipython3",
   "version": "3.10.6"
  }
 },
 "nbformat": 4,
 "nbformat_minor": 5
}

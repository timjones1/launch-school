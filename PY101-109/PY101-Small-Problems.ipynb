{
 "cells": [
  {
   "cell_type": "markdown",
   "id": "21f139d0",
   "metadata": {},
   "source": [
    "# Python Small Exercises"
   ]
  },
  {
   "cell_type": "markdown",
   "id": "65a8ac3b",
   "metadata": {},
   "source": [
    "The Plan is to use PEDAC methodology in some basic way to think about the problem before starting to code to try and minimize the impulse to jump into a hack and slash approach to solving the problem"
   ]
  },
  {
   "cell_type": "markdown",
   "id": "d7e02160",
   "metadata": {},
   "source": [
    "## Easy 1.\n",
    "\n",
    "### 1.1 Isnt it Odd\n",
    "\n",
    "Write a function that takes one integer argument and returns `True` when the number's absolute value is odd, `False` otherwise."
   ]
  },
  {
   "cell_type": "code",
   "execution_count": null,
   "id": "c49d5677",
   "metadata": {},
   "outputs": [],
   "source": []
  },
  {
   "cell_type": "markdown",
   "id": "7decfe3f",
   "metadata": {},
   "source": [
    "P - Problem: well explained in the request. We want to supply an integer and return boolean depending on if the integer is odd or even.\n",
    "\n",
    "E - Examples: 5 = Odd, 6 = Even\n",
    "   is Zero odd or even? apparently even, maybe we need a special case for this?\n",
    "\n",
    "D - Data Structure: we only take in a single integers as input so this can be directly worked on to produce the required output.\n",
    "\n",
    "A - Algorithm: we can use a remainder function to check if there is any remainder when divided by 2, if the remainder is zero the number is even, we can use the modulo operator whish is `%` in python, need to test if this works for negative integers and zero\n",
    "\n",
    "C - Code with Intent..."
   ]
  },
  {
   "cell_type": "code",
   "execution_count": 7,
   "id": "a033f5a7",
   "metadata": {},
   "outputs": [],
   "source": [
    "def odd_or_even(input_int):\n",
    "    if input_int % 2:\n",
    "        return True\n",
    "    else: return False"
   ]
  },
  {
   "cell_type": "code",
   "execution_count": 14,
   "id": "4311a535",
   "metadata": {},
   "outputs": [
    {
     "data": {
      "text/plain": [
       "(False, True, False, True, False)"
      ]
     },
     "execution_count": 14,
     "metadata": {},
     "output_type": "execute_result"
    }
   ],
   "source": [
    "odd_or_even(-2), odd_or_even(-1),odd_or_even(0), odd_or_even(1), odd_or_even(2)"
   ]
  },
  {
   "cell_type": "markdown",
   "id": "0e3f0270",
   "metadata": {},
   "source": [
    "### 1.2 Odd Numbers"
   ]
  },
  {
   "cell_type": "markdown",
   "id": "1953116b",
   "metadata": {},
   "source": [
    "Print all odd numbers from 1 to 99, inclusive, with each number on a separate line.\n",
    "\n",
    "Bonus Question: Can you solve the problem by iterating over just the odd numbers?"
   ]
  },
  {
   "cell_type": "markdown",
   "id": "fb79e176",
   "metadata": {},
   "source": [
    "P - Problem, we want only the odd numbers from 1 - 99 to be printed with only one on each line\n",
    "\n",
    "E - \n",
    "    1\n",
    "    3\n",
    "    5 ...\n",
    "    \n",
    "D - an iterable object returned by the built-in function range() would be helpful allowing us to iterate through       the numbers easily\n",
    "\n",
    "A - iterate through the data structure and print the odd numbers `for number in values:`, use the range() functions arguments to skip even number by using a stride of 2.\n",
    "\n",
    "C - Code with intent..."
   ]
  },
  {
   "cell_type": "code",
   "execution_count": 21,
   "id": "22b422b3",
   "metadata": {
    "collapsed": true
   },
   "outputs": [
    {
     "name": "stdout",
     "output_type": "stream",
     "text": [
      "1\n",
      "3\n",
      "5\n",
      "7\n",
      "9\n",
      "11\n",
      "13\n",
      "15\n",
      "17\n",
      "19\n",
      "21\n",
      "23\n",
      "25\n",
      "27\n",
      "29\n",
      "31\n",
      "33\n",
      "35\n",
      "37\n",
      "39\n",
      "41\n",
      "43\n",
      "45\n",
      "47\n",
      "49\n",
      "51\n",
      "53\n",
      "55\n",
      "57\n",
      "59\n",
      "61\n",
      "63\n",
      "65\n",
      "67\n",
      "69\n",
      "71\n",
      "73\n",
      "75\n",
      "77\n",
      "79\n",
      "81\n",
      "83\n",
      "85\n",
      "87\n",
      "89\n",
      "91\n",
      "93\n",
      "95\n",
      "97\n",
      "99\n"
     ]
    }
   ],
   "source": [
    "odd_numbers = range(1,100,2)\n",
    "\n",
    "for odd_number in odd_numbers:\n",
    "    print(odd_number)"
   ]
  },
  {
   "cell_type": "markdown",
   "id": "032b5a4b",
   "metadata": {},
   "source": [
    "### 1.3 Even Numbers"
   ]
  },
  {
   "cell_type": "markdown",
   "id": "a5e5074f",
   "metadata": {},
   "source": [
    "Print all even numbers from 1 to 99, inclusive, with each number on a separate line."
   ]
  },
  {
   "cell_type": "markdown",
   "id": "4048cba0",
   "metadata": {},
   "source": [
    "cut down on PEDAC , just some text before coding as very similar to before:\n",
    "we will increase start number of the range function to 2 and all should work"
   ]
  },
  {
   "cell_type": "code",
   "execution_count": 24,
   "id": "2af47765",
   "metadata": {},
   "outputs": [
    {
     "name": "stdout",
     "output_type": "stream",
     "text": [
      "2\n",
      "4\n",
      "6\n",
      "8\n",
      "10\n",
      "12\n",
      "14\n",
      "16\n",
      "18\n",
      "20\n",
      "22\n",
      "24\n",
      "26\n",
      "28\n",
      "30\n",
      "32\n",
      "34\n",
      "36\n",
      "38\n",
      "40\n",
      "42\n",
      "44\n",
      "46\n",
      "48\n",
      "50\n",
      "52\n",
      "54\n",
      "56\n",
      "58\n",
      "60\n",
      "62\n",
      "64\n",
      "66\n",
      "68\n",
      "70\n",
      "72\n",
      "74\n",
      "76\n",
      "78\n",
      "80\n",
      "82\n",
      "84\n",
      "86\n",
      "88\n",
      "90\n",
      "92\n",
      "94\n",
      "96\n",
      "98\n"
     ]
    }
   ],
   "source": [
    "even_numbers = range(2,100,2)\n",
    "\n",
    "for even_number in even_numbers:\n",
    "    print(even_number)"
   ]
  },
  {
   "cell_type": "code",
   "execution_count": null,
   "id": "a3127305",
   "metadata": {},
   "outputs": [],
   "source": []
  }
 ],
 "metadata": {
  "kernelspec": {
   "display_name": "Python 3 (ipykernel)",
   "language": "python",
   "name": "python3"
  },
  "language_info": {
   "codemirror_mode": {
    "name": "ipython",
    "version": 3
   },
   "file_extension": ".py",
   "mimetype": "text/x-python",
   "name": "python",
   "nbconvert_exporter": "python",
   "pygments_lexer": "ipython3",
   "version": "3.10.6"
  }
 },
 "nbformat": 4,
 "nbformat_minor": 5
}

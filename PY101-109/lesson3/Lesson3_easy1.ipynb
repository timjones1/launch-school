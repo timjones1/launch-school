{
 "cells": [
  {
   "cell_type": "code",
   "execution_count": 3,
   "metadata": {},
   "outputs": [
    {
     "name": "stdout",
     "output_type": "stream",
     "text": [
      "The munsters are creepy and spooky.\n"
     ]
    }
   ],
   "source": [
    "munsters_description = \"the Munsters are CREEPY and Spooky.\"\n",
    "\n",
    "print(str.capitalize(munsters_description))"
   ]
  },
  {
   "cell_type": "code",
   "execution_count": 5,
   "metadata": {},
   "outputs": [],
   "source": [
    "lower = munsters_description.lower()"
   ]
  },
  {
   "cell_type": "code",
   "execution_count": 13,
   "metadata": {},
   "outputs": [
    {
     "name": "stdout",
     "output_type": "stream",
     "text": [
      "THE mUNSTERS ARE creepy AND sPOOKY.\n"
     ]
    }
   ],
   "source": [
    "lower_mask = [True if lower[i] == munsters_description[i] else False for i in range(len(lower))]\n",
    "\n",
    "reversed_munsters = []\n",
    "\n",
    "for index, is_lower in enumerate(lower_mask):\n",
    "\n",
    "    current_char = munsters_description[index]\n",
    "\n",
    "    if is_lower:\n",
    "        reversed_munsters.append(current_char.upper())\n",
    "    else:\n",
    "        reversed_munsters.append(current_char.lower())\n",
    "\n",
    "print(\"\".join(reversed_munsters))"
   ]
  }
 ],
 "metadata": {
  "kernelspec": {
   "display_name": "Python 3",
   "language": "python",
   "name": "python3"
  },
  "language_info": {
   "codemirror_mode": {
    "name": "ipython",
    "version": 3
   },
   "file_extension": ".py",
   "mimetype": "text/x-python",
   "name": "python",
   "nbconvert_exporter": "python",
   "pygments_lexer": "ipython3",
   "version": "3.10.6"
  }
 },
 "nbformat": 4,
 "nbformat_minor": 2
}
